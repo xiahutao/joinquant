{
 "cells": [
  {
   "cell_type": "code",
   "execution_count": 1,
   "metadata": {},
   "outputs": [],
   "source": [
    "from jz_FutureApi_lib import JzStrategy"
   ]
  },
  {
   "cell_type": "code",
   "execution_count": 2,
   "metadata": {},
   "outputs": [
    {
     "name": "stdout",
     "output_type": "stream",
     "text": [
      "服务已连接\n",
      "监控页面: 127.0.0.1 :1226\n"
     ]
    }
   ],
   "source": [
    "ip = '127.0.0.1:1114'\n",
    "api = JzStrategy('ZhangFang',ip)"
   ]
  },
  {
   "cell_type": "code",
   "execution_count": 3,
   "metadata": {},
   "outputs": [],
   "source": [
    "### 查询\n",
    "fund_df = api.req_fund()"
   ]
  },
  {
   "cell_type": "code",
   "execution_count": 4,
   "metadata": {},
   "outputs": [],
   "source": [
    "hold_df = api.req_hold()"
   ]
  },
  {
   "cell_type": "code",
   "execution_count": 5,
   "metadata": {},
   "outputs": [],
   "source": [
    "trades_df = api.req_trades()"
   ]
  },
  {
   "cell_type": "code",
   "execution_count": 6,
   "metadata": {},
   "outputs": [],
   "source": [
    "orders_df = api.req_orders()"
   ]
  },
  {
   "cell_type": "code",
   "execution_count": 7,
   "metadata": {},
   "outputs": [],
   "source": [
    "cancelable_df = api.req_cancelable()"
   ]
  },
  {
   "cell_type": "markdown",
   "metadata": {},
   "source": [
    "### 交易部分：\n",
    "#### 1、开启enable_trade后才会交易（api.enable_trade=True）\n",
    "#### 2、交易：配置期货代码ocde、价格price、成交量vol、多空long/short、开平open/close/closetoday、策略id(如'test_001','test002')\n",
    "#### 3、撤单：需要从req_orders()中获取FrontID、SessionID、orderRef加上期货代码才可以撤单"
   ]
  },
  {
   "cell_type": "code",
   "execution_count": 8,
   "metadata": {},
   "outputs": [],
   "source": [
    "# 开启enable_trade后才会交易\n",
    "#api.enable_trade = True"
   ]
  },
  {
   "cell_type": "code",
   "execution_count": null,
   "metadata": {
    "scrolled": true
   },
   "outputs": [],
   "source": [
    "### 下单\n",
    "#代码\n",
    "code = 'rb2101'\n",
    "# 价格\n",
    "price = 3325\n",
    "#成交量\n",
    "vol = 1\n",
    "# 多空 long short\n",
    "direction = 'long'\n",
    "#开平 open close\n",
    "open_close = 'open'\n",
    "strategy_name = ''\n",
    "#return_order = api.send_order(code,price,vol,direction,open_close)\n",
    "return_order = api.send_order(code,price,vol,direction,open_close,strategy_name=strategy_name)\n",
    "return_order"
   ]
  },
  {
   "cell_type": "code",
   "execution_count": 9,
   "metadata": {},
   "outputs": [],
   "source": [
    "### 下单\n",
    "# 全撤\n",
    "api.enable_trade = True\n",
    "cancelable_df = api.req_cancelable()\n",
    "for i,cancel_orders in cancelable_df.iterrows():\n",
    "    FrontID = cancel_orders['FrontID']\n",
    "    SessionID = cancel_orders['SessionID']\n",
    "    orderRef = cancel_orders['报单引用']\n",
    "    code = cancel_orders['合约']\n",
    "    api.order_cancel(FrontID,SessionID,orderRef,code)"
   ]
  }
 ],
 "metadata": {
  "kernelspec": {
   "display_name": "Python 3",
   "language": "python",
   "name": "python3"
  },
  "language_info": {
   "codemirror_mode": {
    "name": "ipython",
    "version": 3
   },
   "file_extension": ".py",
   "mimetype": "text/x-python",
   "name": "python",
   "nbconvert_exporter": "python",
   "pygments_lexer": "ipython3",
   "version": "3.7.4"
  }
 },
 "nbformat": 4,
 "nbformat_minor": 2
}
