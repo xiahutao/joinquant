{
 "cells": [
  {
   "cell_type": "code",
   "execution_count": 1,
   "metadata": {},
   "outputs": [],
   "source": [
    "from jz_FutureApi_lib import JzStrategy"
   ]
  },
  {
   "cell_type": "code",
   "execution_count": 2,
   "metadata": {},
   "outputs": [
    {
     "name": "stdout",
     "output_type": "stream",
     "text": [
      "服务已连接\n",
      "监控页面: 127.0.0.1 :1226\n"
     ]
    }
   ],
   "source": [
    "ip = '127.0.0.1:1114'\n",
    "api = JzStrategy('ZhangFang',ip)"
   ]
  },
  {
   "cell_type": "code",
   "execution_count": 5,
   "metadata": {},
   "outputs": [],
   "source": [
    "### 查询\n",
    "fund_df = api.req_fund()"
   ]
  },
  {
   "cell_type": "code",
   "execution_count": 6,
   "metadata": {},
   "outputs": [
    {
     "data": {
      "text/html": [
       "<div>\n",
       "<style scoped>\n",
       "    .dataframe tbody tr th:only-of-type {\n",
       "        vertical-align: middle;\n",
       "    }\n",
       "\n",
       "    .dataframe tbody tr th {\n",
       "        vertical-align: top;\n",
       "    }\n",
       "\n",
       "    .dataframe thead th {\n",
       "        text-align: right;\n",
       "    }\n",
       "</style>\n",
       "<table border=\"1\" class=\"dataframe\">\n",
       "  <thead>\n",
       "    <tr style=\"text-align: right;\">\n",
       "      <th></th>\n",
       "      <th>T动态权益</th>\n",
       "      <th>T可用资金</th>\n",
       "      <th>T静态权益</th>\n",
       "      <th>冻结的保证金</th>\n",
       "      <th>可用资金</th>\n",
       "      <th>平仓盈亏</th>\n",
       "      <th>当前保证金总额</th>\n",
       "      <th>投资者帐号</th>\n",
       "      <th>持仓盈亏</th>\n",
       "      <th>经纪公司代码</th>\n",
       "    </tr>\n",
       "  </thead>\n",
       "  <tbody>\n",
       "    <tr>\n",
       "      <th>0</th>\n",
       "      <td>5.506642e+06</td>\n",
       "      <td>2.878836e+06</td>\n",
       "      <td>5457513.19</td>\n",
       "      <td>0.0</td>\n",
       "      <td>2.655586e+06</td>\n",
       "      <td>-172090.0</td>\n",
       "      <td>2627805.95</td>\n",
       "      <td>21900576</td>\n",
       "      <td>223250.0</td>\n",
       "      <td>6010</td>\n",
       "    </tr>\n",
       "  </tbody>\n",
       "</table>\n",
       "</div>"
      ],
      "text/plain": [
       "          T动态权益         T可用资金       T静态权益  冻结的保证金          可用资金      平仓盈亏  \\\n",
       "0  5.506642e+06  2.878836e+06  5457513.19     0.0  2.655586e+06 -172090.0   \n",
       "\n",
       "      当前保证金总额     投资者帐号      持仓盈亏 经纪公司代码  \n",
       "0  2627805.95  21900576  223250.0   6010  "
      ]
     },
     "execution_count": 6,
     "metadata": {},
     "output_type": "execute_result"
    }
   ],
   "source": [
    "fund_df"
   ]
  },
  {
   "cell_type": "code",
   "execution_count": 9,
   "metadata": {},
   "outputs": [],
   "source": [
    "hold_df = api.req_hold()"
   ]
  },
  {
   "cell_type": "code",
   "execution_count": 10,
   "metadata": {},
   "outputs": [
    {
     "data": {
      "text/html": [
       "<div>\n",
       "<style scoped>\n",
       "    .dataframe tbody tr th:only-of-type {\n",
       "        vertical-align: middle;\n",
       "    }\n",
       "\n",
       "    .dataframe tbody tr th {\n",
       "        vertical-align: top;\n",
       "    }\n",
       "\n",
       "    .dataframe thead th {\n",
       "        text-align: right;\n",
       "    }\n",
       "</style>\n",
       "<table border=\"1\" class=\"dataframe\">\n",
       "  <thead>\n",
       "    <tr style=\"text-align: right;\">\n",
       "      <th></th>\n",
       "      <th>交易所</th>\n",
       "      <th>今仓</th>\n",
       "      <th>保证金</th>\n",
       "      <th>合约</th>\n",
       "      <th>总仓</th>\n",
       "      <th>投保</th>\n",
       "      <th>持仓均价</th>\n",
       "      <th>持仓盈亏</th>\n",
       "      <th>方向</th>\n",
       "      <th>昨仓</th>\n",
       "    </tr>\n",
       "  </thead>\n",
       "  <tbody>\n",
       "    <tr>\n",
       "      <th>0</th>\n",
       "      <td>CFFEX</td>\n",
       "      <td>0</td>\n",
       "      <td>148698.00</td>\n",
       "      <td>IF2009</td>\n",
       "      <td>1</td>\n",
       "      <td>49</td>\n",
       "      <td>4506.0</td>\n",
       "      <td>-33540.0</td>\n",
       "      <td>空</td>\n",
       "      <td>1</td>\n",
       "    </tr>\n",
       "    <tr>\n",
       "      <th>1</th>\n",
       "      <td>SHFE</td>\n",
       "      <td>0</td>\n",
       "      <td>205878.75</td>\n",
       "      <td>zn2009</td>\n",
       "      <td>21</td>\n",
       "      <td>49</td>\n",
       "      <td>374325.0</td>\n",
       "      <td>18900.0</td>\n",
       "      <td>空</td>\n",
       "      <td>21</td>\n",
       "    </tr>\n",
       "    <tr>\n",
       "      <th>2</th>\n",
       "      <td>DCE</td>\n",
       "      <td>0</td>\n",
       "      <td>272790.00</td>\n",
       "      <td>y2009</td>\n",
       "      <td>50</td>\n",
       "      <td>49</td>\n",
       "      <td>303100.0</td>\n",
       "      <td>93000.0</td>\n",
       "      <td>多</td>\n",
       "      <td>50</td>\n",
       "    </tr>\n",
       "    <tr>\n",
       "      <th>3</th>\n",
       "      <td>DCE</td>\n",
       "      <td>0</td>\n",
       "      <td>484020.00</td>\n",
       "      <td>p2009</td>\n",
       "      <td>100</td>\n",
       "      <td>49</td>\n",
       "      <td>537800.0</td>\n",
       "      <td>204000.0</td>\n",
       "      <td>多</td>\n",
       "      <td>100</td>\n",
       "    </tr>\n",
       "    <tr>\n",
       "      <th>4</th>\n",
       "      <td>DCE</td>\n",
       "      <td>0</td>\n",
       "      <td>260730.00</td>\n",
       "      <td>m2009</td>\n",
       "      <td>100</td>\n",
       "      <td>49</td>\n",
       "      <td>289700.0</td>\n",
       "      <td>-5000.0</td>\n",
       "      <td>空</td>\n",
       "      <td>100</td>\n",
       "    </tr>\n",
       "    <tr>\n",
       "      <th>5</th>\n",
       "      <td>DCE</td>\n",
       "      <td>37</td>\n",
       "      <td>120531.20</td>\n",
       "      <td>jd2009</td>\n",
       "      <td>37</td>\n",
       "      <td>49</td>\n",
       "      <td>150664.0</td>\n",
       "      <td>7030.0</td>\n",
       "      <td>多</td>\n",
       "      <td>75</td>\n",
       "    </tr>\n",
       "    <tr>\n",
       "      <th>6</th>\n",
       "      <td>SHFE</td>\n",
       "      <td>0</td>\n",
       "      <td>565290.00</td>\n",
       "      <td>cu2009</td>\n",
       "      <td>20</td>\n",
       "      <td>49</td>\n",
       "      <td>1027800.0</td>\n",
       "      <td>-8000.0</td>\n",
       "      <td>多</td>\n",
       "      <td>20</td>\n",
       "    </tr>\n",
       "    <tr>\n",
       "      <th>7</th>\n",
       "      <td>SHFE</td>\n",
       "      <td>0</td>\n",
       "      <td>360450.00</td>\n",
       "      <td>au2012</td>\n",
       "      <td>10</td>\n",
       "      <td>49</td>\n",
       "      <td>4005.0</td>\n",
       "      <td>8000.0</td>\n",
       "      <td>多</td>\n",
       "      <td>10</td>\n",
       "    </tr>\n",
       "    <tr>\n",
       "      <th>8</th>\n",
       "      <td>CZCE</td>\n",
       "      <td>0</td>\n",
       "      <td>0.00</td>\n",
       "      <td>SA009</td>\n",
       "      <td>0</td>\n",
       "      <td>49</td>\n",
       "      <td>0.0</td>\n",
       "      <td>0.0</td>\n",
       "      <td>多</td>\n",
       "      <td>250</td>\n",
       "    </tr>\n",
       "    <tr>\n",
       "      <th>9</th>\n",
       "      <td>CFFEX</td>\n",
       "      <td>0</td>\n",
       "      <td>209418.00</td>\n",
       "      <td>IH2009</td>\n",
       "      <td>2</td>\n",
       "      <td>49</td>\n",
       "      <td>6346.0</td>\n",
       "      <td>-55920.0</td>\n",
       "      <td>空</td>\n",
       "      <td>2</td>\n",
       "    </tr>\n",
       "  </tbody>\n",
       "</table>\n",
       "</div>"
      ],
      "text/plain": [
       "     交易所  今仓        保证金      合约   总仓  投保       持仓均价      持仓盈亏 方向   昨仓\n",
       "0  CFFEX   0  148698.00  IF2009    1  49     4506.0  -33540.0  空    1\n",
       "1   SHFE   0  205878.75  zn2009   21  49   374325.0   18900.0  空   21\n",
       "2    DCE   0  272790.00   y2009   50  49   303100.0   93000.0  多   50\n",
       "3    DCE   0  484020.00   p2009  100  49   537800.0  204000.0  多  100\n",
       "4    DCE   0  260730.00   m2009  100  49   289700.0   -5000.0  空  100\n",
       "5    DCE  37  120531.20  jd2009   37  49   150664.0    7030.0  多   75\n",
       "6   SHFE   0  565290.00  cu2009   20  49  1027800.0   -8000.0  多   20\n",
       "7   SHFE   0  360450.00  au2012   10  49     4005.0    8000.0  多   10\n",
       "8   CZCE   0       0.00   SA009    0  49        0.0       0.0  多  250\n",
       "9  CFFEX   0  209418.00  IH2009    2  49     6346.0  -55920.0  空    2"
      ]
     },
     "execution_count": 10,
     "metadata": {},
     "output_type": "execute_result"
    }
   ],
   "source": [
    "hold_df"
   ]
  },
  {
   "cell_type": "code",
   "execution_count": 5,
   "metadata": {},
   "outputs": [],
   "source": [
    "trades_df = api.req_trades()"
   ]
  },
  {
   "cell_type": "code",
   "execution_count": 6,
   "metadata": {},
   "outputs": [],
   "source": [
    "orders_df = api.req_orders()"
   ]
  },
  {
   "cell_type": "code",
   "execution_count": 7,
   "metadata": {},
   "outputs": [],
   "source": [
    "cancelable_df = api.req_cancelable()"
   ]
  },
  {
   "cell_type": "markdown",
   "metadata": {},
   "source": [
    "### 交易部分：\n",
    "#### 1、开启enable_trade后才会交易（api.enable_trade=True）\n",
    "#### 2、交易：配置期货代码ocde、价格price、成交量vol、多空long/short、开平open/close/closetoday、策略id(如'test_001','test002')\n",
    "#### 3、撤单：需要从req_orders()中获取FrontID、SessionID、orderRef加上期货代码才可以撤单"
   ]
  },
  {
   "cell_type": "code",
   "execution_count": 8,
   "metadata": {},
   "outputs": [],
   "source": [
    "# 开启enable_trade后才会交易\n",
    "#api.enable_trade = True"
   ]
  },
  {
   "cell_type": "code",
   "execution_count": null,
   "metadata": {
    "scrolled": true
   },
   "outputs": [],
   "source": [
    "### 下单\n",
    "#代码\n",
    "code = 'rb2101'\n",
    "# 价格\n",
    "price = 3325\n",
    "#成交量\n",
    "vol = 1\n",
    "# 多空 long short\n",
    "direction = 'long'\n",
    "#开平 open close\n",
    "open_close = 'open'\n",
    "strategy_name = ''\n",
    "#return_order = api.send_order(code,price,vol,direction,open_close)\n",
    "return_order = api.send_order(code,price,vol,direction,open_close,strategy_name=strategy_name)\n",
    "return_order"
   ]
  },
  {
   "cell_type": "code",
   "execution_count": 9,
   "metadata": {},
   "outputs": [],
   "source": [
    "### 下单\n",
    "# 全撤\n",
    "api.enable_trade = True\n",
    "cancelable_df = api.req_cancelable()\n",
    "for i,cancel_orders in cancelable_df.iterrows():\n",
    "    FrontID = cancel_orders['FrontID']\n",
    "    SessionID = cancel_orders['SessionID']\n",
    "    orderRef = cancel_orders['报单引用']\n",
    "    code = cancel_orders['合约']\n",
    "    api.order_cancel(FrontID,SessionID,orderRef,code)"
   ]
  }
 ],
 "metadata": {
  "kernelspec": {
   "display_name": "Python 3",
   "language": "python",
   "name": "python3"
  },
  "language_info": {
   "codemirror_mode": {
    "name": "ipython",
    "version": 3
   },
   "file_extension": ".py",
   "mimetype": "text/x-python",
   "name": "python",
   "nbconvert_exporter": "python",
   "pygments_lexer": "ipython3",
   "version": "3.7.4"
  }
 },
 "nbformat": 4,
 "nbformat_minor": 2
}
